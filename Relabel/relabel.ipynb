{
 "cells": [
  {
   "cell_type": "code",
   "execution_count": 4,
   "metadata": {},
   "outputs": [],
   "source": [
    "import pandas as pd\n",
    "import numpy as np\n",
    "import math\n",
    "import seaborn as sns\n",
    "import matplotlib.pyplot as plt\n",
    "%matplotlib inline"
   ]
  },
  {
   "cell_type": "code",
   "execution_count": 5,
   "metadata": {},
   "outputs": [],
   "source": [
    "pd.set_option('max_columns', None)\n",
    "info = pd.read_csv(\"../../test/filedrivertest/to_csv/objects_info.csv\")"
   ]
  },
  {
   "cell_type": "code",
   "execution_count": 6,
   "metadata": {
    "scrolled": true
   },
   "outputs": [
    {
     "data": {
      "text/html": [
       "<div>\n",
       "<style scoped>\n",
       "    .dataframe tbody tr th:only-of-type {\n",
       "        vertical-align: middle;\n",
       "    }\n",
       "\n",
       "    .dataframe tbody tr th {\n",
       "        vertical-align: top;\n",
       "    }\n",
       "\n",
       "    .dataframe thead th {\n",
       "        text-align: right;\n",
       "    }\n",
       "</style>\n",
       "<table border=\"1\" class=\"dataframe\">\n",
       "  <thead>\n",
       "    <tr style=\"text-align: right;\">\n",
       "      <th></th>\n",
       "      <th>FrameIdx</th>\n",
       "      <th>TimeStamp</th>\n",
       "      <th>ObjIdx</th>\n",
       "      <th>Obj_Id</th>\n",
       "      <th>BdBox_0X</th>\n",
       "      <th>BdBox_0Y</th>\n",
       "      <th>BdBox_1X</th>\n",
       "      <th>BdBox_1Y</th>\n",
       "      <th>BdBox_2X</th>\n",
       "      <th>BdBox_2Y</th>\n",
       "      <th>BdBox_3X</th>\n",
       "      <th>BdBox_3Y</th>\n",
       "      <th>Center_X</th>\n",
       "      <th>Center_Y</th>\n",
       "      <th>Class_Name</th>\n",
       "      <th>Velocity_X</th>\n",
       "      <th>Velocity_Y</th>\n",
       "    </tr>\n",
       "  </thead>\n",
       "  <tbody>\n",
       "    <tr>\n",
       "      <th>0</th>\n",
       "      <td>0</td>\n",
       "      <td>1.505369e+09</td>\n",
       "      <td>0</td>\n",
       "      <td>62</td>\n",
       "      <td>33.962875</td>\n",
       "      <td>0.505278</td>\n",
       "      <td>33.957809</td>\n",
       "      <td>-1.199798</td>\n",
       "      <td>29.423162</td>\n",
       "      <td>-1.186318</td>\n",
       "      <td>29.428232</td>\n",
       "      <td>0.518758</td>\n",
       "      <td>31.693020</td>\n",
       "      <td>-0.340520</td>\n",
       "      <td>Car</td>\n",
       "      <td>15.714168</td>\n",
       "      <td>-0.046714</td>\n",
       "    </tr>\n",
       "    <tr>\n",
       "      <th>1</th>\n",
       "      <td>0</td>\n",
       "      <td>1.505369e+09</td>\n",
       "      <td>1</td>\n",
       "      <td>63</td>\n",
       "      <td>144.656891</td>\n",
       "      <td>5.315582</td>\n",
       "      <td>144.669678</td>\n",
       "      <td>3.322351</td>\n",
       "      <td>138.081360</td>\n",
       "      <td>3.280111</td>\n",
       "      <td>138.068573</td>\n",
       "      <td>5.273342</td>\n",
       "      <td>141.369125</td>\n",
       "      <td>4.297847</td>\n",
       "      <td>Truck</td>\n",
       "      <td>17.124807</td>\n",
       "      <td>0.109794</td>\n",
       "    </tr>\n",
       "    <tr>\n",
       "      <th>2</th>\n",
       "      <td>0</td>\n",
       "      <td>1.505369e+09</td>\n",
       "      <td>2</td>\n",
       "      <td>246</td>\n",
       "      <td>48.755569</td>\n",
       "      <td>4.878856</td>\n",
       "      <td>48.773026</td>\n",
       "      <td>3.478460</td>\n",
       "      <td>42.835640</td>\n",
       "      <td>3.404447</td>\n",
       "      <td>42.818184</td>\n",
       "      <td>4.804842</td>\n",
       "      <td>45.795605</td>\n",
       "      <td>4.141651</td>\n",
       "      <td>Truck</td>\n",
       "      <td>16.601341</td>\n",
       "      <td>0.206948</td>\n",
       "    </tr>\n",
       "    <tr>\n",
       "      <th>3</th>\n",
       "      <td>0</td>\n",
       "      <td>1.505369e+09</td>\n",
       "      <td>3</td>\n",
       "      <td>161</td>\n",
       "      <td>27.311588</td>\n",
       "      <td>4.677684</td>\n",
       "      <td>27.279587</td>\n",
       "      <td>3.013759</td>\n",
       "      <td>22.978626</td>\n",
       "      <td>3.096478</td>\n",
       "      <td>23.010628</td>\n",
       "      <td>4.760404</td>\n",
       "      <td>25.145107</td>\n",
       "      <td>3.887081</td>\n",
       "      <td>Car</td>\n",
       "      <td>15.028389</td>\n",
       "      <td>-0.289039</td>\n",
       "    </tr>\n",
       "    <tr>\n",
       "      <th>4</th>\n",
       "      <td>0</td>\n",
       "      <td>1.505369e+09</td>\n",
       "      <td>4</td>\n",
       "      <td>51</td>\n",
       "      <td>-21.053070</td>\n",
       "      <td>0.527956</td>\n",
       "      <td>-21.063114</td>\n",
       "      <td>-1.111441</td>\n",
       "      <td>-22.188801</td>\n",
       "      <td>-1.104545</td>\n",
       "      <td>-22.178757</td>\n",
       "      <td>0.534852</td>\n",
       "      <td>-21.620935</td>\n",
       "      <td>-0.288295</td>\n",
       "      <td>Car</td>\n",
       "      <td>14.390348</td>\n",
       "      <td>-0.088234</td>\n",
       "    </tr>\n",
       "  </tbody>\n",
       "</table>\n",
       "</div>"
      ],
      "text/plain": [
       "   FrameIdx     TimeStamp  ObjIdx  Obj_Id    BdBox_0X  BdBox_0Y    BdBox_1X  \\\n",
       "0         0  1.505369e+09       0      62   33.962875  0.505278   33.957809   \n",
       "1         0  1.505369e+09       1      63  144.656891  5.315582  144.669678   \n",
       "2         0  1.505369e+09       2     246   48.755569  4.878856   48.773026   \n",
       "3         0  1.505369e+09       3     161   27.311588  4.677684   27.279587   \n",
       "4         0  1.505369e+09       4      51  -21.053070  0.527956  -21.063114   \n",
       "\n",
       "   BdBox_1Y    BdBox_2X  BdBox_2Y    BdBox_3X  BdBox_3Y    Center_X  Center_Y  \\\n",
       "0 -1.199798   29.423162 -1.186318   29.428232  0.518758   31.693020 -0.340520   \n",
       "1  3.322351  138.081360  3.280111  138.068573  5.273342  141.369125  4.297847   \n",
       "2  3.478460   42.835640  3.404447   42.818184  4.804842   45.795605  4.141651   \n",
       "3  3.013759   22.978626  3.096478   23.010628  4.760404   25.145107  3.887081   \n",
       "4 -1.111441  -22.188801 -1.104545  -22.178757  0.534852  -21.620935 -0.288295   \n",
       "\n",
       "  Class_Name  Velocity_X  Velocity_Y  \n",
       "0        Car   15.714168   -0.046714  \n",
       "1      Truck   17.124807    0.109794  \n",
       "2      Truck   16.601341    0.206948  \n",
       "3        Car   15.028389   -0.289039  \n",
       "4        Car   14.390348   -0.088234  "
      ]
     },
     "execution_count": 6,
     "metadata": {},
     "output_type": "execute_result"
    }
   ],
   "source": [
    "info = info[:32093]\n",
    "info.head()"
   ]
  },
  {
   "cell_type": "code",
   "execution_count": 7,
   "metadata": {},
   "outputs": [],
   "source": [
    "def find_new(id_pool,old):\n",
    "    if old not in id_pool:\n",
    "        return old\n",
    "    new = old\n",
    "    while 1:\n",
    "        new = new*2+1\n",
    "        #print(new,id_pool)\n",
    "        if new not in id_pool:\n",
    "            return new"
   ]
  },
  {
   "cell_type": "code",
   "execution_count": 8,
   "metadata": {},
   "outputs": [
    {
     "data": {
      "text/plain": [
       "15"
      ]
     },
     "execution_count": 8,
     "metadata": {},
     "output_type": "execute_result"
    }
   ],
   "source": [
    "test_id_pool = [1,3,5,7]\n",
    "old = 1\n",
    "find_new(test_id_pool,old)"
   ]
  },
  {
   "cell_type": "code",
   "execution_count": 9,
   "metadata": {},
   "outputs": [],
   "source": [
    "def convert(idx,ids,id_pool):\n",
    "    last = np.NAN\n",
    "    count = 0\n",
    "    new_id = np.NAN\n",
    "    for i in range(len(idx)):\n",
    "        current = idx[i]\n",
    "        id = ids[i]\n",
    "        if current!=last+1:\n",
    "            #print(count,ids[i])\n",
    "            count+=1\n",
    "            new_id = find_new(id_pool,id)\n",
    "            #print(type(id_pool),type(new_id))\n",
    "            id_pool.append(new_id)\n",
    "        #print(count)\n",
    "        if count!=1:\n",
    "            ids[i] = new_id\n",
    "        last = current\n",
    "        #print(idx,ids,id_pool)\n",
    "    return(ids)"
   ]
  },
  {
   "cell_type": "code",
   "execution_count": 10,
   "metadata": {},
   "outputs": [
    {
     "name": "stdout",
     "output_type": "stream",
     "text": [
      "[62, 63, 246, 161, 51, 59, 13, 109, 212, 10, 235, 225, 56, 93, 86, 217, 233, 34, 25, 150, 53, 250, 30, 164, 98, 228, 173, 19, 42, 160, 67, 180, 187, 113, 183, 194, 24, 12, 29, 155, 21, 221, 208, 227, 73, 179, 79, 91, 85, 87, 49, 206, 157, 23, 28, 243, 141, 199, 158, 39, 72, 192, 139, 8, 66, 102, 207, 88, 222, 178, 90, 124, 65, 89, 219, 230, 138, 205, 43, 232, 168, 11, 159, 52, 249, 96, 128, 129, 201, 176, 135, 130, 117, 229, 6, 197, 115, 125, 143, 60, 9, 16, 182, 76, 156, 35, 137, 191, 153, 50, 81, 82, 55, 120, 121, 84, 184, 40, 106, 226, 134, 18, 148, 251, 123, 245, 111, 239, 218, 209, 4, 149, 202, 237, 146, 71, 220, 100, 44, 64, 122, 15, 46, 105, 165, 47, 57, 92, 166, 94, 185, 231, 240, 36, 103, 253, 118, 215, 37, 97, 70, 204, 223, 3, 163, 145, 27, 80, 1, 147, 210, 236, 198, 112, 142, 152, 214, 68, 174, 170, 78]\n"
     ]
    }
   ],
   "source": [
    "info1 = info.copy()\n",
    "id_pool = info1.Obj_Id.unique().tolist()\n",
    "print(id_pool)"
   ]
  },
  {
   "cell_type": "code",
   "execution_count": 11,
   "metadata": {},
   "outputs": [
    {
     "name": "stdout",
     "output_type": "stream",
     "text": [
      "51 181\n",
      "[51, 51, 51, 51, 51, 51, 51, 51, 51, 51, 51, 51, 51, 51, 51, 51, 51, 51, 51, 51, 51, 51, 51, 51, 51, 51, 51, 51, 51, 51, 51, 51, 51, 51, 51, 51, 51, 51, 51, 51, 51, 51, 51, 51, 51, 51, 51, 51, 51, 51, 51, 51, 51, 51, 51, 51, 51, 51, 51, 51, 51, 51, 51, 51, 51, 51, 51, 51, 51, 51, 51, 51, 51, 51, 51, 51, 51, 51, 51, 51, 51, 51, 51, 51, 51, 51, 51, 51, 51, 51, 51, 51, 51, 51, 51, 51, 51, 51, 51, 51, 51, 51, 51, 51, 51, 51, 51, 51, 51, 51, 51, 51, 51, 51, 51, 51, 51, 51, 51, 51, 51, 51, 51, 51, 51, 51, 51, 51, 51, 51, 51, 51, 51, 51, 51, 51, 51, 51, 51, 51, 51, 51, 51, 51, 51, 51, 51, 51, 51, 51, 51, 51, 51, 51, 51, 51, 51, 51, 51, 51, 51, 51, 51, 51, 51, 51, 51, 51, 51, 51, 51, 51, 51, 51, 51, 51, 51, 51, 51, 51, 51, 51, 51, 51, 51, 51, 51, 51, 51, 51, 51, 51, 51, 51, 51, 51, 51, 51, 51, 51, 51, 51, 51, 51, 51, 51, 51, 51, 51, 51, 51, 51, 51, 51, 51, 51, 51, 51, 51, 51, 51, 51, 51, 51, 51, 51, 51, 51, 51, 51, 51, 51, 51, 51, 51, 51, 51, 51, 51, 51, 51, 51, 51, 51, 51, 51, 51, 51, 51, 51, 51, 51, 51, 51, 51, 51, 51, 51, 51, 51, 51, 51, 51, 51, 51, 51, 51, 51, 51, 51, 51, 51, 51, 51, 51, 51, 51, 51, 51, 51, 51, 51, 51, 51, 51, 51, 51, 51, 51, 51, 51, 51, 51, 51, 51, 51, 51, 51, 51, 51, 51, 51, 51, 51, 51, 51, 51, 51, 51, 51, 51, 51, 51, 51, 51, 51, 51, 51, 51, 51, 51, 51, 51, 51, 51, 51, 51, 51, 51, 51, 51, 51, 51, 51, 51, 51, 51, 51, 51, 51, 51, 51, 51, 51, 51, 51, 51, 51, 51, 51, 51, 51, 51, 51, 51, 51, 51, 51, 51, 51, 51, 51, 51, 51, 51, 51, 51, 51, 51, 51, 51, 51, 51, 51, 51, 51, 51, 51, 51, 51, 51, 51, 51, 51, 51, 51, 51, 51, 51, 51, 51, 51, 51, 51, 51, 51, 51, 51, 51, 51, 51, 51, 51, 51, 51, 51, 51, 51, 51, 51, 51, 51, 51, 51, 51, 51, 51, 51, 51, 51, 51, 51, 51, 51, 51, 51, 51, 51, 51, 51, 51, 51, 51, 51, 51, 51, 51, 51, 51, 51, 51, 51, 51, 51, 51, 51, 51, 51, 51, 51, 51, 51, 51, 51, 51, 51, 51, 51, 51, 51, 51, 51, 51, 51, 51, 51, 51, 51, 51, 51, 51, 51, 831, 831, 831, 831, 831, 831, 831, 831, 831, 831, 831, 831, 831, 831, 831, 831, 831, 831, 831, 831, 831, 831, 831, 831, 831, 831, 831, 831, 831, 831, 831, 831, 831, 831, 831, 831, 831, 831, 831, 831, 831, 831, 831, 831, 831, 831, 831, 831, 831, 831, 831, 831, 831, 831, 831, 831, 831, 831, 831, 831, 831, 831, 831, 831, 831, 831, 831, 831, 831, 831, 831, 831, 831, 831, 831, 831, 831, 831, 831, 831, 831, 831, 831, 831, 831, 831, 831, 831, 831, 831, 831, 1663, 1663, 1663, 1663, 1663, 1663, 1663, 1663, 1663, 1663, 1663, 1663, 1663, 1663, 1663, 1663, 1663, 1663, 1663, 1663, 1663, 1663, 1663, 1663, 1663, 1663, 1663, 1663, 1663, 1663, 1663, 1663, 1663, 1663, 1663, 1663, 1663, 1663, 1663, 1663, 1663, 1663, 1663, 1663, 1663, 1663, 1663, 1663, 1663, 1663, 1663, 1663, 1663, 1663, 1663, 1663, 1663, 1663, 1663, 1663, 1663, 1663, 1663, 1663, 1663, 1663, 1663, 1663, 1663, 1663, 1663, 1663, 1663, 1663, 1663, 1663, 1663, 1663, 1663, 1663, 1663, 1663, 1663, 1663, 1663, 1663, 1663, 1663, 1663, 1663, 1663, 1663, 1663, 1663, 1663, 1663, 1663, 1663, 1663, 1663, 1663, 1663, 1663, 1663, 1663, 1663, 1663, 1663, 1663, 1663, 1663, 1663, 1663, 1663, 1663, 1663, 1663, 1663, 1663, 1663, 1663, 1663, 1663, 1663, 1663, 1663, 1663, 1663, 1663, 1663, 1663] 694\n",
      "51 184\n"
     ]
    },
    {
     "name": "stderr",
     "output_type": "stream",
     "text": [
      "C:\\Users\\oubaituo-130\\Anaconda3\\lib\\site-packages\\pandas\\core\\generic.py:4405: SettingWithCopyWarning: \n",
      "A value is trying to be set on a copy of a slice from a DataFrame.\n",
      "Try using .loc[row_indexer,col_indexer] = value instead\n",
      "\n",
      "See the caveats in the documentation: http://pandas.pydata.org/pandas-docs/stable/indexing.html#indexing-view-versus-copy\n",
      "  self[name] = value\n"
     ]
    }
   ],
   "source": [
    "Obj_Id = id_pool[4]\n",
    "\n",
    "frame = info1[info1.Obj_Id == Obj_Id]\n",
    "idx = frame.FrameIdx.tolist()\n",
    "ids = frame.Obj_Id.tolist()\n",
    "\n",
    "print(Obj_Id,len(id_pool))\n",
    "\n",
    "converted_ids = convert(idx,ids,id_pool)\n",
    "print(converted_ids,len(converted_ids))\n",
    "frame.Obj_Id = converted_ids\n",
    "for i in frame.iterrows():\n",
    "    info1.at[i[0], 'Obj_Id'] = i[1][3]\n",
    "print(Obj_Id,len(id_pool))"
   ]
  }
 ],
 "metadata": {
  "kernelspec": {
   "display_name": "Python 3",
   "language": "python",
   "name": "python3"
  },
  "language_info": {
   "codemirror_mode": {
    "name": "ipython",
    "version": 3
   },
   "file_extension": ".py",
   "mimetype": "text/x-python",
   "name": "python",
   "nbconvert_exporter": "python",
   "pygments_lexer": "ipython3",
   "version": "3.6.5"
  }
 },
 "nbformat": 4,
 "nbformat_minor": 2
}
