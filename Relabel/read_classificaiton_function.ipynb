{
 "cells": [
  {
   "cell_type": "code",
   "execution_count": 29,
   "metadata": {},
   "outputs": [],
   "source": [
    "import os\n",
    "import copy\n",
    "import sys\n",
    "sys.path.append('D:\\Repo\\sensoreval')\n",
    "from filedriver import cmpfile\n",
    "import json "
   ]
  },
  {
   "cell_type": "code",
   "execution_count": 30,
   "metadata": {},
   "outputs": [],
   "source": [
    "# 获得cmp文件的数据总帧数\n",
    "\n",
    "def get_FrameNum(WorkFile):\n",
    "    \n",
    "    FIndx = cmpfile.DataTypeId.FrameIndex\n",
    "    FEnd = copy.deepcopy(WorkFile.ReadFrame(0,FIndx))\n",
    "    FrameNum = FEnd.DataBlock.FrameIdxNum\n",
    "    \n",
    "    return FrameNum"
   ]
  },
  {
   "cell_type": "code",
   "execution_count": 31,
   "metadata": {},
   "outputs": [],
   "source": [
    "def find_added_stillin_removed(current,last):\n",
    "    added = []\n",
    "    stillin = []\n",
    "    removed = []\n",
    "    for i in current:\n",
    "        if i in last:\n",
    "            stillin.append(i)\n",
    "        else:\n",
    "            added.append(i)\n",
    "    for i in last:\n",
    "        if i not in current:\n",
    "            removed.append(i)\n",
    "    return added,stillin,removed"
   ]
  },
  {
   "cell_type": "code",
   "execution_count": 40,
   "metadata": {},
   "outputs": [],
   "source": [
    "def cmp_classification_extract(fPath):\n",
    "    \n",
    "    WorkFile = cmpfile.CmpFile(fPath)\n",
    "\n",
    "    #输出数据帧总数\n",
    "    FrameNum = get_FrameNum(WorkFile)\n",
    "    \n",
    "    FrameInfo = {}\n",
    "    huanchong = {}\n",
    "    \n",
    "    dt = cmpfile.DataTypeId.Object\n",
    "    \n",
    "    for i in range(FrameNum):\n",
    "        currentF = copy.deepcopy(WorkFile.ReadFrame(i,dt,'begin'))\n",
    "        for _ in currentF.DataBlock.Objects:\n",
    "            huanchong[_.Id]= _.Classification.name\n",
    "            \n",
    "        FrameInfo[i] = huanchong\n",
    "        huanchong = {}\n",
    "    \n",
    "    huanchong = {}\n",
    "    tmp = {}\n",
    "    last_ids = []\n",
    "    rst = []\n",
    "\n",
    "    for _ in range(FrameNum):\n",
    "        \n",
    "        current_info = FrameInfo[_]\n",
    "        current_ids = current_info.keys()\n",
    "        added,stillin,removed = find_added_stillin_removed(current_ids,last_ids)\n",
    "\n",
    "        for i in added:\n",
    "            huanchong[i] = [current_info[i]]\n",
    "        for i in stillin:\n",
    "            if current_info[i] not in huanchong[i]:\n",
    "                huanchong[i].append(current_info[i])\n",
    "    \n",
    "        for i in removed:\n",
    "            tmp = {i:huanchong[i]}\n",
    "            rst.append(tmp)\n",
    "            del huanchong[i]\n",
    "\n",
    "        if _ == FrameNum - 1:\n",
    "            for key, value in huanchong.items():\n",
    "                rst.append({key:value})\n",
    "\n",
    "        last_ids = current_ids\n",
    "    \n",
    "    # 写入 Json 文件\n",
    "    \n",
    "    fname = 'DataOrigin_process_2.json'\n",
    "    with open(fname, 'w') as f:\n",
    "        json.dump(rst,f,indent = 4)\n",
    "    \n",
    "    print(\"文件中物体分类读取已完成，保存到了Json文件中,Json 文件的保存地址为：\")\n",
    "    print(os.path.abspath(fname))"
   ]
  },
  {
   "cell_type": "code",
   "execution_count": 41,
   "metadata": {},
   "outputs": [
    {
     "name": "stdout",
     "output_type": "stream",
     "text": [
      "文件中物体分类读取已完成，保存到了Json文件中,Json 文件的保存地址为：\n",
      "D:\\jiaojie\\Relabel\\DataOrigin_process_2.json\n"
     ]
    }
   ],
   "source": [
    "fPath = r\"D:\\jiaojie\\to_csv\\bike_007.cmp\"\n",
    "\n",
    "cmp_classification_extract(fPath)"
   ]
  },
  {
   "cell_type": "code",
   "execution_count": null,
   "metadata": {},
   "outputs": [],
   "source": []
  }
 ],
 "metadata": {
  "kernelspec": {
   "display_name": "Python 3",
   "language": "python",
   "name": "python3"
  },
  "language_info": {
   "codemirror_mode": {
    "name": "ipython",
    "version": 3
   },
   "file_extension": ".py",
   "mimetype": "text/x-python",
   "name": "python",
   "nbconvert_exporter": "python",
   "pygments_lexer": "ipython3",
   "version": "3.6.5"
  }
 },
 "nbformat": 4,
 "nbformat_minor": 2
}
